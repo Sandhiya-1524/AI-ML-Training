{
 "cells": [
  {
   "cell_type": "code",
   "execution_count": 1,
   "id": "466014bc-627c-4760-841c-90de2df7b883",
   "metadata": {},
   "outputs": [],
   "source": [
    "import pandas as pd"
   ]
  },
  {
   "cell_type": "code",
   "execution_count": 2,
   "id": "db9d09d7-17b0-4db9-8c9d-992accdd2b4d",
   "metadata": {},
   "outputs": [],
   "source": [
    "#small dataset for demo purposes\n",
    "data = {\n",
    "    'CustomerID': [1,2,3,4,5,6,7,8],\n",
    "    'AnnualIncome': [15,16,17,28,30,45,55,60],\n",
    "    'SpendingScore': [39,81,6,77,40,50,42,30]\n",
    "}"
   ]
  },
  {
   "cell_type": "code",
   "execution_count": 3,
   "id": "15f5c2ad-cad8-4f68-a8e4-532f97dd0426",
   "metadata": {},
   "outputs": [],
   "source": [
    "df = pd.DataFrame(data)"
   ]
  },
  {
   "cell_type": "code",
   "execution_count": null,
   "id": "d8f0ebc9-ede5-4477-8c9a-33c2ff0c6152",
   "metadata": {},
   "outputs": [],
   "source": [
    "#Import libraries and Preprocess\n",
    "from sklearn.cluster import KMeans\n",
    "import matplotlib.pyplot as plt\n",
    "import seaborn as sns\n"
   ]
  },
  {
   "cell_type": "code",
   "execution_count": null,
   "id": "11eab998-e9d8-4720-b783-7d5b66c66679",
   "metadata": {},
   "outputs": [],
   "source": [
    "#Select features for clustering\n",
    "X = df[['AnnualIncome', 'SpendingScore']]\n",
    "\n",
    "#Initial Scatter Plot\n",
    "plt.figure(figsize=(6,4))\n",
    "plt.scatter(X['AnnualIncome'], X['SpendingScore'], s=100, c='or', edgecolors='k')\n",
    "plt.title('Customer Distribution')\n",
    "plt.xlabel('Annual Income')\n",
    "plt.ylabel('Spending Score')\n",
    "plt.grid(True)\n",
    "plt.show()\n"
   ]
  }
 ],
 "metadata": {
  "kernelspec": {
   "display_name": "Python 3 (ipykernel)",
   "language": "python",
   "name": "python3"
  },
  "language_info": {
   "codemirror_mode": {
    "name": "ipython",
    "version": 3
   },
   "file_extension": ".py",
   "mimetype": "text/x-python",
   "name": "python",
   "nbconvert_exporter": "python",
   "pygments_lexer": "ipython3",
   "version": "3.13.5"
  }
 },
 "nbformat": 4,
 "nbformat_minor": 5
}
