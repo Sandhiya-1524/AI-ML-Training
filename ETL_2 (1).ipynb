{
 "cells": [
  {
   "cell_type": "code",
   "execution_count": 1,
   "id": "d98ff035-2d1f-4638-be1c-a4edc5a4674a",
   "metadata": {},
   "outputs": [],
   "source": [
    "#!pip install mysql-connector-python"
   ]
  },
  {
   "cell_type": "code",
   "execution_count": 2,
   "id": "5235e81f-b845-4a32-9812-fdd2c9f34954",
   "metadata": {},
   "outputs": [],
   "source": [
    "import mysql.connector"
   ]
  },
  {
   "cell_type": "code",
   "execution_count": 3,
   "id": "9f7b1fc3-b506-4f5b-a491-d9ee10505a10",
   "metadata": {},
   "outputs": [
    {
     "data": {
      "text/plain": [
       "<mysql.connector.connection.MySQLConnection at 0x1a7932901a0>"
      ]
     },
     "execution_count": 3,
     "metadata": {},
     "output_type": "execute_result"
    }
   ],
   "source": [
    "mydb = mysql.connector.connect( \n",
    "    host='localhost', \n",
    "    user='root', \n",
    "    password='Sandhiya#1234', \n",
    "    database='employee' \n",
    ") \n",
    "mydb"
   ]
  },
  {
   "cell_type": "code",
   "execution_count": 4,
   "id": "b0277e98-2b90-4232-9e59-d7ab2a884021",
   "metadata": {},
   "outputs": [],
   "source": [
    "sql = \"CREATE DATABASE employee\""
   ]
  },
  {
   "cell_type": "code",
   "execution_count": 5,
   "id": "dac8fe43-19c4-4683-b05c-6b6cdac9f4cf",
   "metadata": {},
   "outputs": [],
   "source": [
    "sql = \"CREATE TABLE salary(empid int, firstname VARCHAR(100), lastname VARCHAR(100), email VARCHAR(50), phone VARCHAR(15), hire_date date, job_id VARCHAR(15), salary int)\""
   ]
  },
  {
   "cell_type": "code",
   "execution_count": 6,
   "id": "f7836c74-494a-4393-902d-57eea9ae6312",
   "metadata": {},
   "outputs": [],
   "source": [
    "cursor = mydb.cursor()"
   ]
  },
  {
   "cell_type": "code",
   "execution_count": 10,
   "id": "4cb8e178-432f-490f-b5bc-d3beebfe45bd",
   "metadata": {},
   "outputs": [],
   "source": [
    "sql = \"\"\"\n",
    "CREATE TABLE IF NOT EXISTS salary(\n",
    "    id INT PRIMARY KEY,\n",
    "    name VARCHAR(100),\n",
    "    amount DECIMAL(10,2)\n",
    ")\n",
    "cursor.execute(sql)\"\"\""
   ]
  },
  {
   "cell_type": "code",
   "execution_count": 13,
   "id": "d9e12d21-707b-4554-bc7a-47e774ed0e7d",
   "metadata": {
    "scrolled": true
   },
   "outputs": [
    {
     "name": "stdout",
     "output_type": "stream",
     "text": [
      "['198', 'Donald', 'OConnell', 'DOCONNEL', '650.507.9833', '21-Jun-07', 'SH_CLERK', '2600']\n",
      "['199', 'Douglas', 'Grant', 'DGRANT', '650.507.9844', '13-Jan-08', 'SH_CLERK', '2600']\n",
      "['200', 'Jennifer', 'Whalen', 'JWHALEN', '515.123.4444', '17-Sep-03', 'AD_ASST', '4400']\n",
      "['201', 'Michael', 'Hartstein', 'MHARTSTE', '515.123.5555', '17-Feb-04', 'MK_MAN', '13000']\n",
      "['202', 'Pat', 'Fay', 'PFAY', '603.123.6666', '17-Aug-05', 'MK_REP', '6000']\n",
      "['203', 'Susan', 'Mavris', 'SMAVRIS', '515.123.7777', '07-Jun-02', 'HR_REP', '6500']\n",
      "['204', 'Hermann', 'Baer', 'HBAER', '515.123.8888', '07-Jun-02', 'PR_REP', '10000']\n",
      "['205', 'Shelley', 'Higgins', 'SHIGGINS', '515.123.8080', '07-Jun-02', 'AC_MGR', '12008']\n",
      "['206', 'William', 'Gietz', 'WGIETZ', '515.123.8181', '07-Jun-02', 'AC_ACCOUNT', '8300']\n",
      "['100', 'Steven', 'King', 'SKING', '515.123.4567', '17-Jun-03', 'AD_PRES', '24000']\n",
      "['101', 'Neena', 'Kochhar', 'NKOCHHAR', '515.123.4568', '21-Sep-05', 'AD_VP', '17000']\n",
      "['102', 'Lex', 'De Haan', 'LDEHAAN', '515.123.4569', '13-Jan-01', 'AD_VP', '17000']\n",
      "['103', 'Alexander', 'Hunold', 'AHUNOLD', '590.423.4567', '03-Jan-06', 'IT_PROG', '9000']\n",
      "['104', 'Bruce', 'Ernst', 'BERNST', '590.423.4568', '21-May-07', 'IT_PROG', '6000']\n",
      "['105', 'David', 'Austin', 'DAUSTIN', '590.423.4569', '25-Jun-05', 'IT_PROG', '4800']\n",
      "['106', 'Valli', 'Pataballa', 'VPATABAL', '590.423.4560', '05-Feb-06', 'IT_PROG', '4800']\n",
      "['107', 'Diana', 'Lorentz', 'DLORENTZ', '590.423.5567', '07-Feb-07', 'IT_PROG', '4200']\n",
      "['108', 'Nancy', 'Greenberg', 'NGREENBE', '515.124.4569', '17-Aug-02', 'FI_MGR', '12008']\n",
      "['109', 'Daniel', 'Faviet', 'DFAVIET', '515.124.4169', '16-Aug-02', 'FI_ACCOUNT', '9000']\n",
      "['110', 'John', 'Chen', 'JCHEN', '515.124.4269', '28-Sep-05', 'FI_ACCOUNT', '8200']\n",
      "['111', 'Ismael', 'Sciarra', 'ISCIARRA', '515.124.4369', '30-Sep-05', 'FI_ACCOUNT', '7700']\n",
      "['112', 'Jose Manuel', 'Urman', 'JMURMAN', '515.124.4469', '07-Mar-06', 'FI_ACCOUNT', '7800']\n",
      "['113', 'Luis', 'Popp', 'LPOPP', '515.124.4567', '07-Dec-07', 'FI_ACCOUNT', '6900']\n",
      "['114', 'Den', 'Raphaely', 'DRAPHEAL', '515.127.4561', '07-Dec-02', 'PU_MAN', '11000']\n",
      "['115', 'Alexander', 'Khoo', 'AKHOO', '515.127.4562', '18-May-03', 'PU_CLERK', '3100']\n",
      "['116', 'Shelli', 'Baida', 'SBAIDA', '515.127.4563', '24-Dec-05', 'PU_CLERK', '2900']\n",
      "['117', 'Sigal', 'Tobias', 'STOBIAS', '515.127.4564', '24-Jul-05', 'PU_CLERK', '2800']\n",
      "['118', 'Guy', 'Himuro', 'GHIMURO', '515.127.4565', '15-Nov-06', 'PU_CLERK', '2600']\n",
      "['119', 'Karen', 'Colmenares', 'KCOLMENA', '515.127.4566', '10-Aug-07', 'PU_CLERK', '2500']\n",
      "['120', 'Matthew', 'Weiss', 'MWEISS', '650.123.1234', '18-Jul-04', 'ST_MAN', '8000']\n",
      "['121', 'Adam', 'Fripp', 'AFRIPP', '650.123.2234', '10-Apr-05', 'ST_MAN', '8200']\n",
      "['122', 'Payam', 'Kaufling', 'PKAUFLIN', '650.123.3234', '01-May-03', 'ST_MAN', '7900']\n",
      "['123', 'Shanta', 'Vollman', 'SVOLLMAN', '650.123.4234', '10-Oct-05', 'ST_MAN', '6500']\n",
      "['124', 'Kevin', 'Mourgos', 'KMOURGOS', '650.123.5234', '16-Nov-07', 'ST_MAN', '5800']\n",
      "['125', 'Julia', 'Nayer', 'JNAYER', '650.124.1214', '16-Jul-05', 'ST_CLERK', '3200']\n",
      "['126', 'Irene', 'Mikkilineni', 'IMIKKILI', '650.124.1224', '28-Sep-06', 'ST_CLERK', '2700']\n",
      "['127', 'James', 'Landry', 'JLANDRY', '650.124.1334', '14-Jan-07', 'ST_CLERK', '2400']\n",
      "['128', 'Steven', 'Markle', 'SMARKLE', '650.124.1434', '08-Mar-08', 'ST_CLERK', '2200']\n",
      "['129', 'Laura', 'Bissot', 'LBISSOT', '650.124.5234', '20-Aug-05', 'ST_CLERK', '3300']\n",
      "['130', 'Mozhe', 'Atkinson', 'MATKINSO', '650.124.6234', '30-Oct-05', 'ST_CLERK', '2800']\n",
      "['131', 'James', 'Marlow', 'JAMRLOW', '650.124.7234', '16-Feb-05', 'ST_CLERK', '2500']\n",
      "['132', 'TJ', 'Olson', 'TJOLSON', '650.124.8234', '10-Apr-07', 'ST_CLERK', '2100']\n",
      "['133', 'Jason', 'Mallin', 'JMALLIN', '650.127.1934', '14-Jun-04', 'ST_CLERK', '3300']\n",
      "['134', 'Michael', 'Rogers', 'MROGERS', '650.127.1834', '26-Aug-06', 'ST_CLERK', '2900']\n",
      "['135', 'Ki', 'Gee', 'KGEE', '650.127.1734', '12-Dec-07', 'ST_CLERK', '2400']\n",
      "['136', 'Hazel', 'Philtanker', 'HPHILTAN', '650.127.1634', '06-Feb-08', 'ST_CLERK', '2200']\n",
      "['137', 'Renske', 'Ladwig', 'RLADWIG', '650.121.1234', '14-Jul-03', 'ST_CLERK', '3600']\n",
      "['138', 'Stephen', 'Stiles', 'SSTILES', '650.121.2034', '26-Oct-05', 'ST_CLERK', '3200']\n",
      "['139', 'John', 'Seo', 'JSEO', '650.121.2019', '12-Feb-06', 'ST_CLERK', '2700']\n",
      "['140', 'Joshua', 'Patel', 'JPATEL', '650.121.1834', '06-Apr-06', 'ST_CLERK', '2500']\n"
     ]
    }
   ],
   "source": [
    "import csv \n",
    "import datetime \n",
    "cursor.execute(\"\"\"\n",
    "CREATE TABLE IF NOT EXISTS salary (\n",
    "    empid INT PRIMARY KEY,\n",
    "    firstname VARCHAR(50),\n",
    "    lastname VARCHAR(50),\n",
    "    email VARCHAR(100),\n",
    "    phone VARCHAR(15),\n",
    "    hire_date DATE,\n",
    "    job_id VARCHAR(10),\n",
    "    salary DECIMAL(10, 2)\n",
    ")\n",
    "\"\"\")\n",
    "filename=\"employees1.csv\" \n",
    " \n",
    "with open(filename, 'r') as csvfile: \n",
    "    csvreader =csv.reader(csvfile) \n",
    "    a = next(csvreader) \n",
    "    for row in csvreader: \n",
    "        print(row) \n",
    "        empid = int(row[0]) \n",
    "        firstname = row[1] \n",
    "        lastname = row[2] \n",
    "        email = row[3] \n",
    "        phone = row[4] \n",
    "        hire_date = datetime.datetime.strptime(row[5], '%d-%b-%y').date() \n",
    "        job_id = row[6] \n",
    "        salary = int(row[7]) \n",
    "        #salary = int(row[7][:-3]) \n",
    "        sql = \"INSERT INTO salary(empid,firstname,lastname,email,phone,hire_date,job_id,salary) VALUES(%s,%s,%s,%s,%s,%s,%s,%s)\" \n",
    "        val=(empid,firstname,lastname,email,phone,hire_date,job_id,salary) \n",
    "        cursor.execute(sql,val)"
   ]
  },
  {
   "cell_type": "code",
   "execution_count": 14,
   "id": "f316c31b-fbf9-431c-98cd-ffd0a65b5272",
   "metadata": {},
   "outputs": [],
   "source": [
    "mydb.commit()"
   ]
  },
  {
   "cell_type": "code",
   "execution_count": 15,
   "id": "785d2b91-2892-4a88-975b-8eb539264ec9",
   "metadata": {},
   "outputs": [
    {
     "data": {
      "text/plain": [
       "True"
      ]
     },
     "execution_count": 15,
     "metadata": {},
     "output_type": "execute_result"
    }
   ],
   "source": [
    "cursor.close()"
   ]
  },
  {
   "cell_type": "code",
   "execution_count": 16,
   "id": "0dab656f-16d5-4632-b249-3f13f8db76b1",
   "metadata": {},
   "outputs": [],
   "source": [
    "mydb.close()"
   ]
  },
  {
   "cell_type": "code",
   "execution_count": 17,
   "id": "69278eca-c69a-4a94-83ca-4179bf01f1cb",
   "metadata": {},
   "outputs": [],
   "source": [
    "import logging"
   ]
  },
  {
   "cell_type": "code",
   "execution_count": 18,
   "id": "048b63d2-0e12-4bb0-a594-8d24c1604963",
   "metadata": {},
   "outputs": [
    {
     "name": "stderr",
     "output_type": "stream",
     "text": [
      "ERROR:root:Something went wrong\n",
      "NoneType: None\n"
     ]
    }
   ],
   "source": [
    "logging.error(\"Something went wrong\", exc_info=True)"
   ]
  },
  {
   "cell_type": "code",
   "execution_count": 1,
   "id": "1812ac60-bfd2-4a67-9ffd-d41e25d6e7f6",
   "metadata": {},
   "outputs": [
    {
     "name": "stdout",
     "output_type": "stream",
     "text": [
      "ETL process completed successfully.\n"
     ]
    }
   ],
   "source": [
    "print(\"ETL process completed successfully.\")"
   ]
  },
  {
   "cell_type": "code",
   "execution_count": 1,
   "id": "fee6d5f9-fc5f-4669-afce-22a4429102dc",
   "metadata": {},
   "outputs": [
    {
     "name": "stderr",
     "output_type": "stream",
     "text": [
      "[NbConvertApp] Converting notebook ETL.ipynb to script\n",
      "[NbConvertApp] Writing 2722 bytes to ETL.py\n"
     ]
    }
   ],
   "source": [
    "!python -m nbconvert --to script ETL.ipynb"
   ]
  },
  {
   "cell_type": "code",
   "execution_count": null,
   "id": "1ed7dfe9-d369-465e-bc11-b876518b151d",
   "metadata": {},
   "outputs": [],
   "source": []
  }
 ],
 "metadata": {
  "kernelspec": {
   "display_name": "Python 3 (ipykernel)",
   "language": "python",
   "name": "python3"
  },
  "language_info": {
   "codemirror_mode": {
    "name": "ipython",
    "version": 3
   },
   "file_extension": ".py",
   "mimetype": "text/x-python",
   "name": "python",
   "nbconvert_exporter": "python",
   "pygments_lexer": "ipython3",
   "version": "3.13.5"
  }
 },
 "nbformat": 4,
 "nbformat_minor": 5
}
